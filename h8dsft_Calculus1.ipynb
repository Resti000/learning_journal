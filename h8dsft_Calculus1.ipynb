{
  "nbformat": 4,
  "nbformat_minor": 0,
  "metadata": {
    "colab": {
      "name": "h8dsft_Calculus1.ipynb",
      "provenance": [],
      "collapsed_sections": [],
      "authorship_tag": "ABX9TyM5ffluQInSJPloT6G/NSAR",
      "include_colab_link": true
    },
    "kernelspec": {
      "name": "python3",
      "display_name": "Python 3"
    },
    "language_info": {
      "name": "python"
    }
  },
  "cells": [
    {
      "cell_type": "markdown",
      "metadata": {
        "id": "view-in-github",
        "colab_type": "text"
      },
      "source": [
        "<a href=\"https://colab.research.google.com/github/Resti000/learning_journal/blob/main/h8dsft_Calculus1.ipynb\" target=\"_parent\"><img src=\"https://colab.research.google.com/assets/colab-badge.svg\" alt=\"Open In Colab\"/></a>"
      ]
    },
    {
      "cell_type": "code",
      "execution_count": 1,
      "metadata": {
        "id": "M6wKHVGI4Bzb"
      },
      "outputs": [],
      "source": [
        "import sympy as sy"
      ]
    },
    {
      "cell_type": "code",
      "source": [
        "x = sy.Symbol('x')\n",
        "y = sy.Symbol('y')\n",
        "\n",
        "y_1 = x**2 + 2*x + 1\n",
        "y_2 = 4*x**3 - 3*x**2 +2*x - 1"
      ],
      "metadata": {
        "id": "UJZ8dKCQ4Ohz"
      },
      "execution_count": 2,
      "outputs": []
    },
    {
      "cell_type": "code",
      "source": [
        "y_1"
      ],
      "metadata": {
        "colab": {
          "base_uri": "https://localhost:8080/",
          "height": 38
        },
        "id": "zYoj1SCM4xlT",
        "outputId": "a6127c4b-5e4f-4d81-fd08-a3e318f36b0d"
      },
      "execution_count": 3,
      "outputs": [
        {
          "output_type": "execute_result",
          "data": {
            "text/latex": "$\\displaystyle x^{2} + 2 x + 1$",
            "text/plain": [
              "x**2 + 2*x + 1"
            ]
          },
          "metadata": {},
          "execution_count": 3
        }
      ]
    },
    {
      "cell_type": "code",
      "source": [
        "#first order\n",
        "y_1_diff = y_1.diff()\n",
        "\n",
        "y_1_diff"
      ],
      "metadata": {
        "colab": {
          "base_uri": "https://localhost:8080/",
          "height": 38
        },
        "id": "2pfwL13f4y1W",
        "outputId": "bf1810c3-a853-4657-bb50-91dd42025199"
      },
      "execution_count": 4,
      "outputs": [
        {
          "output_type": "execute_result",
          "data": {
            "text/latex": "$\\displaystyle 2 x + 2$",
            "text/plain": [
              "2*x + 2"
            ]
          },
          "metadata": {},
          "execution_count": 4
        }
      ]
    },
    {
      "cell_type": "code",
      "source": [
        "#second order\n",
        "y_1_diff.diff()"
      ],
      "metadata": {
        "colab": {
          "base_uri": "https://localhost:8080/",
          "height": 37
        },
        "id": "bxMFsw1B5HU-",
        "outputId": "317d722d-0081-4642-b0f8-cc7156d0cccf"
      },
      "execution_count": 5,
      "outputs": [
        {
          "output_type": "execute_result",
          "data": {
            "text/latex": "$\\displaystyle 2$",
            "text/plain": [
              "2"
            ]
          },
          "metadata": {},
          "execution_count": 5
        }
      ]
    },
    {
      "cell_type": "code",
      "source": [
        "#third order\n",
        "y_1_diff.diff().diff()"
      ],
      "metadata": {
        "colab": {
          "base_uri": "https://localhost:8080/",
          "height": 37
        },
        "id": "RBFranFJ5L7v",
        "outputId": "14dc1f2f-9514-4ad3-9929-f247f59da0ff"
      },
      "execution_count": 6,
      "outputs": [
        {
          "output_type": "execute_result",
          "data": {
            "text/latex": "$\\displaystyle 0$",
            "text/plain": [
              "0"
            ]
          },
          "metadata": {},
          "execution_count": 6
        }
      ]
    },
    {
      "cell_type": "code",
      "source": [
        "y_2"
      ],
      "metadata": {
        "colab": {
          "base_uri": "https://localhost:8080/",
          "height": 38
        },
        "id": "q_WSYK1Y5R41",
        "outputId": "163cd817-2c94-4e2d-b1bf-78f07b193ce4"
      },
      "execution_count": 7,
      "outputs": [
        {
          "output_type": "execute_result",
          "data": {
            "text/latex": "$\\displaystyle 4 x^{3} - 3 x^{2} + 2 x - 1$",
            "text/plain": [
              "4*x**3 - 3*x**2 + 2*x - 1"
            ]
          },
          "metadata": {},
          "execution_count": 7
        }
      ]
    },
    {
      "cell_type": "code",
      "source": [
        "#first order\n",
        "y_2_diff = y_2.diff()\n",
        "\n",
        "y_2_diff"
      ],
      "metadata": {
        "colab": {
          "base_uri": "https://localhost:8080/",
          "height": 38
        },
        "id": "j_wRKM9A5TlH",
        "outputId": "eb8c70b7-98aa-47bc-e2d5-8e33e291cee0"
      },
      "execution_count": 9,
      "outputs": [
        {
          "output_type": "execute_result",
          "data": {
            "text/latex": "$\\displaystyle 12 x^{2} - 6 x + 2$",
            "text/plain": [
              "12*x**2 - 6*x + 2"
            ]
          },
          "metadata": {},
          "execution_count": 9
        }
      ]
    },
    {
      "cell_type": "code",
      "source": [
        "#second order\n",
        "y_2_diff.diff()"
      ],
      "metadata": {
        "colab": {
          "base_uri": "https://localhost:8080/",
          "height": 38
        },
        "id": "EW302V-w5ZPP",
        "outputId": "1cda1eb2-de83-4445-817c-cd072192c6a6"
      },
      "execution_count": 10,
      "outputs": [
        {
          "output_type": "execute_result",
          "data": {
            "text/latex": "$\\displaystyle 24 x - 6$",
            "text/plain": [
              "24*x - 6"
            ]
          },
          "metadata": {},
          "execution_count": 10
        }
      ]
    },
    {
      "cell_type": "code",
      "source": [
        "#third order\n",
        "y_2_diff.diff().diff()"
      ],
      "metadata": {
        "colab": {
          "base_uri": "https://localhost:8080/",
          "height": 37
        },
        "id": "hcsk8kwc5fEh",
        "outputId": "6f00d592-45d1-45fe-9f5b-4d852a5a9b05"
      },
      "execution_count": 11,
      "outputs": [
        {
          "output_type": "execute_result",
          "data": {
            "text/latex": "$\\displaystyle 24$",
            "text/plain": [
              "24"
            ]
          },
          "metadata": {},
          "execution_count": 11
        }
      ]
    },
    {
      "cell_type": "code",
      "source": [
        "#fourth order\n",
        "y_2_diff.diff().diff().diff()"
      ],
      "metadata": {
        "colab": {
          "base_uri": "https://localhost:8080/",
          "height": 37
        },
        "id": "KiUVM7CJ5lA2",
        "outputId": "54dd973d-c20c-4752-e4aa-5ef54645c44f"
      },
      "execution_count": 12,
      "outputs": [
        {
          "output_type": "execute_result",
          "data": {
            "text/latex": "$\\displaystyle 0$",
            "text/plain": [
              "0"
            ]
          },
          "metadata": {},
          "execution_count": 12
        }
      ]
    }
  ]
}