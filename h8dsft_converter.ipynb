{
  "nbformat": 4,
  "nbformat_minor": 0,
  "metadata": {
    "colab": {
      "name": "h8dsft_converter.ipynb",
      "provenance": [],
      "collapsed_sections": [],
      "authorship_tag": "ABX9TyPmHtSlzQmIgsxgYHL6Ritw",
      "include_colab_link": true
    },
    "kernelspec": {
      "name": "python3",
      "display_name": "Python 3"
    },
    "language_info": {
      "name": "python"
    }
  },
  "cells": [
    {
      "cell_type": "markdown",
      "metadata": {
        "id": "view-in-github",
        "colab_type": "text"
      },
      "source": [
        "<a href=\"https://colab.research.google.com/github/Resti000/learning_journal/blob/main/h8dsft_converter.ipynb\" target=\"_parent\"><img src=\"https://colab.research.google.com/assets/colab-badge.svg\" alt=\"Open In Colab\"/></a>"
      ]
    },
    {
      "cell_type": "markdown",
      "source": [
        "# Konversi Suhu Kelvin ke Celcius"
      ],
      "metadata": {
        "id": "0pWuOfmZpHJI"
      }
    },
    {
      "cell_type": "code",
      "source": [
        "kelvin = float(input(\"Masukkan nilai suhu = \"))\n",
        "print(\"suhu = \", kelvin, \"Kelvin\")\n",
        "def konversi_suhu_KC(kelvin):\n",
        "  celcius = kelvin - 273\n",
        "  print(\"Konversi suhu Kelvin ke Celcius = \", celcius, \"Celcius\")\n",
        "\n",
        "konversi_suhu_KC(kelvin)"
      ],
      "metadata": {
        "colab": {
          "base_uri": "https://localhost:8080/"
        },
        "id": "LeAES41xoIVe",
        "outputId": "00a8dde7-057d-4d3d-937e-c5088d252959"
      },
      "execution_count": 12,
      "outputs": [
        {
          "output_type": "stream",
          "name": "stdout",
          "text": [
            "Masukkan nilai suhu = 25\n",
            "suhu =  25.0 Kelvin\n",
            "Konversi suhu Kelvin ke Celcius =  -248.0 Celcius\n"
          ]
        }
      ]
    },
    {
      "cell_type": "markdown",
      "source": [
        "# Konversi Suhu Celcius ke Kelvin"
      ],
      "metadata": {
        "id": "SvBVbnzzpN8w"
      }
    },
    {
      "cell_type": "code",
      "source": [
        "celcius = float(input(\"Masukkan nilai suhu = \"))\n",
        "print(\"suhu = \", celcius, \"Celcius\")\n",
        "def konversi_suhu_CK(celcius):\n",
        "  kelvin = celcius + 273\n",
        "  print(\"Konversi suhu Celcius ke Kelvin = \", kelvin, \"Kelvin\")\n",
        "\n",
        "konversi_suhu_CK(celcius)"
      ],
      "metadata": {
        "colab": {
          "base_uri": "https://localhost:8080/"
        },
        "id": "hNqrZTkEpCeQ",
        "outputId": "710991d2-eeee-4c9e-8c04-c62c6b6f8398"
      },
      "execution_count": 13,
      "outputs": [
        {
          "output_type": "stream",
          "name": "stdout",
          "text": [
            "Masukkan nilai suhu = 25\n",
            "suhu =  25.0 Celcius\n",
            "Konversi suhu Celcius ke Kelvin =  298.0 Kelvin\n"
          ]
        }
      ]
    },
    {
      "cell_type": "markdown",
      "source": [
        "# Konversi Suhu Celcius dan Kelvin ke Fahrenheit"
      ],
      "metadata": {
        "id": "GfTQHiDjqknv"
      }
    },
    {
      "cell_type": "markdown",
      "source": [
        "### Celcius ke Fahrenheit"
      ],
      "metadata": {
        "id": "CZuCiHoy3qCy"
      }
    },
    {
      "cell_type": "code",
      "source": [
        "celcius = float(input(\"Masukkan nilai suhu = \"))\n",
        "print(\"suhu = \", celcius, \"Celcius\")\n",
        "def konversi_suhu_CF(celcius):\n",
        "  fahrenheit = ((9/5*celcius)+32)\n",
        "  print(\"Konversi suhu Celcius ke Fahrenheit = \", fahrenheit, \"Fahrenheit\")\n",
        "\n",
        "konversi_suhu_CF(celcius)"
      ],
      "metadata": {
        "colab": {
          "base_uri": "https://localhost:8080/"
        },
        "id": "kiwVovqnq8Lx",
        "outputId": "a69e2156-dca6-4e11-ea28-f4539647e590"
      },
      "execution_count": 15,
      "outputs": [
        {
          "output_type": "stream",
          "name": "stdout",
          "text": [
            "Masukkan nilai suhu = 25\n",
            "suhu =  25.0 Celcius\n",
            "Konversi suhu Celcius ke Fahrenheit =  77.0 Fahrenheit\n"
          ]
        }
      ]
    },
    {
      "cell_type": "markdown",
      "source": [
        "### Kelvin ke Fahrenheit"
      ],
      "metadata": {
        "id": "Kfjk5jBt4SUv"
      }
    },
    {
      "cell_type": "code",
      "source": [
        "kelvin = float(input(\"Masukkan nilai suhu = \"))\n",
        "print(\"suhu = \", kelvin, \"Kelvin\")\n",
        "def konversi_suhu_KF(kelvin):\n",
        "  fahrenheit_kelvin = (celcius)*9/5 + 32\n",
        "  print(\"konversi suhu Kelvin ke Fahrenheit = \", fahrenheit_kelvin, \"Fahrenheit\")\n",
        "\n",
        "konversi_suhu_KF(kelvin)"
      ],
      "metadata": {
        "colab": {
          "base_uri": "https://localhost:8080/"
        },
        "id": "3cqcgA_44aoB",
        "outputId": "f0fc8182-fded-49d9-8d68-006c3d344eb9"
      },
      "execution_count": 18,
      "outputs": [
        {
          "output_type": "stream",
          "name": "stdout",
          "text": [
            "Masukkan nilai suhu = 25\n",
            "suhu =  25.0 Kelvin\n",
            "konversi suhu Kelvin ke Fahrenheit =  77.0 Fahrenheit\n"
          ]
        }
      ]
    }
  ]
}