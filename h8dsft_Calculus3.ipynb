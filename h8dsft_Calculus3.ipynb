{
  "nbformat": 4,
  "nbformat_minor": 0,
  "metadata": {
    "colab": {
      "name": "h8dsft_Calculus3.ipynb",
      "provenance": [],
      "collapsed_sections": [],
      "authorship_tag": "ABX9TyOl895r7FFfGrPTYJ3m9Mjr",
      "include_colab_link": true
    },
    "kernelspec": {
      "name": "python3",
      "display_name": "Python 3"
    },
    "language_info": {
      "name": "python"
    }
  },
  "cells": [
    {
      "cell_type": "markdown",
      "metadata": {
        "id": "view-in-github",
        "colab_type": "text"
      },
      "source": [
        "<a href=\"https://colab.research.google.com/github/Resti000/learning_journal/blob/main/h8dsft_Calculus3.ipynb\" target=\"_parent\"><img src=\"https://colab.research.google.com/assets/colab-badge.svg\" alt=\"Open In Colab\"/></a>"
      ]
    },
    {
      "cell_type": "markdown",
      "source": [
        "Mencari Gradien"
      ],
      "metadata": {
        "id": "nVhkRrICSIqo"
      }
    },
    {
      "cell_type": "code",
      "source": [
        "import sympy as sy\n",
        "import numpy as np"
      ],
      "metadata": {
        "id": "6yplCQ5XRCl_"
      },
      "execution_count": 2,
      "outputs": []
    },
    {
      "cell_type": "code",
      "execution_count": 3,
      "metadata": {
        "colab": {
          "base_uri": "https://localhost:8080/",
          "height": 38
        },
        "id": "EB8UOsN_68X_",
        "outputId": "9888473e-2773-4095-feb6-0a9ab102c387"
      },
      "outputs": [
        {
          "output_type": "execute_result",
          "data": {
            "text/latex": "$\\displaystyle 3 x + 4 y - 5$",
            "text/plain": [
              "3*x + 4*y - 5"
            ]
          },
          "metadata": {},
          "execution_count": 3
        }
      ],
      "source": [
        "x,y = sy.symbols('x y')\n",
        "f = 3*x + 4*y - 5\n",
        "f"
      ]
    },
    {
      "cell_type": "code",
      "source": [
        "from sympy.tensor.array import derive_by_array\n",
        "grad = derive_by_array(f, (x,y))\n",
        "grad"
      ],
      "metadata": {
        "colab": {
          "base_uri": "https://localhost:8080/",
          "height": 38
        },
        "id": "wN_ETAluRBIZ",
        "outputId": "a00ed296-c612-41db-f360-6d59a8a107d4"
      },
      "execution_count": 4,
      "outputs": [
        {
          "output_type": "execute_result",
          "data": {
            "text/latex": "$\\displaystyle \\left[\\begin{matrix}3 & 4\\end{matrix}\\right]$",
            "text/plain": [
              "[3, 4]"
            ]
          },
          "metadata": {},
          "execution_count": 4
        }
      ]
    }
  ]
}