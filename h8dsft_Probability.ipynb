{
  "nbformat": 4,
  "nbformat_minor": 0,
  "metadata": {
    "colab": {
      "name": "h8dsft_Probability.ipynb",
      "provenance": [],
      "collapsed_sections": [],
      "authorship_tag": "ABX9TyOLRbic/yEO4myVLbQxBKAi",
      "include_colab_link": true
    },
    "kernelspec": {
      "name": "python3",
      "display_name": "Python 3"
    },
    "language_info": {
      "name": "python"
    }
  },
  "cells": [
    {
      "cell_type": "markdown",
      "metadata": {
        "id": "view-in-github",
        "colab_type": "text"
      },
      "source": [
        "<a href=\"https://colab.research.google.com/github/Resti000/learning_journal/blob/main/h8dsft_Probability.ipynb\" target=\"_parent\"><img src=\"https://colab.research.google.com/assets/colab-badge.svg\" alt=\"Open In Colab\"/></a>"
      ]
    },
    {
      "cell_type": "markdown",
      "source": [
        "Buatlah sebuah kode untuk mensimulasikan melempar koin sebanyak 50.000 kali dengan assign value random berupa 0 dan 1 untuk kepala atau ekor. Setiap kali koin dilempar, peluang untuk mendapatkan kepala atau ekor adalah 50%."
      ],
      "metadata": {
        "id": "kc_h7nrlZJzT"
      }
    },
    {
      "cell_type": "code",
      "source": [
        "%matplotlib inline\n",
        "import random"
      ],
      "metadata": {
        "id": "as4mjKxxZOEK"
      },
      "execution_count": 1,
      "outputs": []
    },
    {
      "cell_type": "code",
      "execution_count": 2,
      "metadata": {
        "colab": {
          "base_uri": "https://localhost:8080/"
        },
        "id": "44BK3Sm_YSQi",
        "outputId": "c10e64ad-8cf8-41ce-fb1f-0d9f95879ec1"
      },
      "outputs": [
        {
          "output_type": "stream",
          "name": "stdout",
          "text": [
            "[24888, 25113]\n"
          ]
        }
      ],
      "source": [
        "# Membuat nama untuk heads dan tails berupa 0 dan 1\n",
        "heads_tails = [0,1]\n",
        "\n",
        "# Pelemparan koin sebanyak 50.000 kali\n",
        "trials = 50000\n",
        "trial = 0\n",
        "while trial < trials:\n",
        "    trial = trial + 1\n",
        "    # Menampilkan nilai random 0 atau 1\n",
        "    toss = random.randint(0,1)\n",
        "    # Menambahkan daftar elemen yang sesuai dengan hasil lemparan\n",
        "    heads_tails[toss] = heads_tails[toss] + 1\n",
        "\n",
        "print(heads_tails)"
      ]
    },
    {
      "cell_type": "code",
      "source": [
        "# Meng-import matplotlib untuk menampilkan hasil dalam bentuk pie chart\n",
        "import matplotlib.pyplot as plt"
      ],
      "metadata": {
        "id": "8bp8GNGwabd3"
      },
      "execution_count": 3,
      "outputs": []
    },
    {
      "cell_type": "code",
      "source": [
        "# Menampilkan hsail lemparan koin dalam bentuk pie chart\n",
        "plt.figure(figsize=(5,5))\n",
        "plt.pie(heads_tails, labels=['heads', 'tails'])\n",
        "plt.legend()\n",
        "plt.show()"
      ],
      "metadata": {
        "colab": {
          "base_uri": "https://localhost:8080/",
          "height": 303
        },
        "id": "R5UQ9x4capKn",
        "outputId": "6771efa4-df20-42c9-c1ea-4e1559118cba"
      },
      "execution_count": 4,
      "outputs": [
        {
          "output_type": "display_data",
          "data": {
            "image/png": "[encoded data removed]",
            "text/plain": [
              "<Figure size 360x360 with 1 Axes>"
            ]
          },
          "metadata": {}
        }
      ]
    },
    {
      "cell_type": "markdown",
      "source": [
        "Dari hasil diatas, dapat dilihat bahwa peluang koin mendapatkan kepala atau ekor adalah sebesar:\n",
        "\n",
        "kepala = 24888\n",
        "\n",
        "ekor = 25113\n",
        "\n",
        "hasil tersebut mendekati peluang 50% dengan nilai yang nyaris sama."
      ],
      "metadata": {
        "id": "sfegL5cubTbj"
      }
    },
    {
      "cell_type": "code",
      "source": [
        ""
      ],
      "metadata": {
        "id": "VsAs8wFQa2kU"
      },
      "execution_count": null,
      "outputs": []
    }
  ]
}