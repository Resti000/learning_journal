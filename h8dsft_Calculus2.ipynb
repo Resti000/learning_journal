{
  "nbformat": 4,
  "nbformat_minor": 0,
  "metadata": {
    "colab": {
      "name": "h8dsft_Calculus2.ipynb",
      "provenance": [],
      "collapsed_sections": [],
      "authorship_tag": "ABX9TyPovTB+pzaxiM9CV2n4LVWN",
      "include_colab_link": true
    },
    "kernelspec": {
      "name": "python3",
      "display_name": "Python 3"
    },
    "language_info": {
      "name": "python"
    }
  },
  "cells": [
    {
      "cell_type": "markdown",
      "metadata": {
        "id": "view-in-github",
        "colab_type": "text"
      },
      "source": [
        "<a href=\"https://colab.research.google.com/github/Resti000/learning_journal/blob/main/h8dsft_Calculus2.ipynb\" target=\"_parent\"><img src=\"https://colab.research.google.com/assets/colab-badge.svg\" alt=\"Open In Colab\"/></a>"
      ]
    },
    {
      "cell_type": "markdown",
      "source": [
        "Integral"
      ],
      "metadata": {
        "id": "WULQoLxnYa0Y"
      }
    },
    {
      "cell_type": "code",
      "execution_count": 1,
      "metadata": {
        "id": "VsY0btTKStmo"
      },
      "outputs": [],
      "source": [
        "import sympy as sy\n",
        "import numpy as np"
      ]
    },
    {
      "cell_type": "markdown",
      "source": [
        "Symbolic"
      ],
      "metadata": {
        "id": "2Fy3q2vnYZDm"
      }
    },
    {
      "cell_type": "code",
      "source": [
        "x = sy.Symbol('x')\n",
        "f_1 = 3*x**2 - 6*x + 3\n",
        "f_2 = 8*x**3 - x**2 + 5*x - 1"
      ],
      "metadata": {
        "id": "bBnkjJuXS3a4"
      },
      "execution_count": 2,
      "outputs": []
    },
    {
      "cell_type": "code",
      "source": [
        "f_1"
      ],
      "metadata": {
        "colab": {
          "base_uri": "https://localhost:8080/",
          "height": 38
        },
        "id": "gUyqph_YWEv5",
        "outputId": "2586bcfd-8258-424f-caad-3c0b7363f6d6"
      },
      "execution_count": 3,
      "outputs": [
        {
          "output_type": "execute_result",
          "data": {
            "text/latex": "$\\displaystyle 3 x^{2} - 6 x + 3$",
            "text/plain": [
              "3*x**2 - 6*x + 3"
            ]
          },
          "metadata": {},
          "execution_count": 3
        }
      ]
    },
    {
      "cell_type": "code",
      "source": [
        "f_2"
      ],
      "metadata": {
        "colab": {
          "base_uri": "https://localhost:8080/",
          "height": 38
        },
        "id": "C2W4OyYfWFmw",
        "outputId": "1399a538-497c-48b2-d0cb-d0ead7a5eab7"
      },
      "execution_count": 4,
      "outputs": [
        {
          "output_type": "execute_result",
          "data": {
            "text/latex": "$\\displaystyle 8 x^{3} - x^{2} + 5 x - 1$",
            "text/plain": [
              "8*x**3 - x**2 + 5*x - 1"
            ]
          },
          "metadata": {},
          "execution_count": 4
        }
      ]
    },
    {
      "cell_type": "code",
      "source": [
        "from scipy import integrate\n",
        "sy.integrate(f_1)"
      ],
      "metadata": {
        "colab": {
          "base_uri": "https://localhost:8080/",
          "height": 38
        },
        "id": "PYQTShcuWHNg",
        "outputId": "cc03a3ae-d232-4671-ad17-f552744fc931"
      },
      "execution_count": 5,
      "outputs": [
        {
          "output_type": "execute_result",
          "data": {
            "text/latex": "$\\displaystyle x^{3} - 3 x^{2} + 3 x$",
            "text/plain": [
              "x**3 - 3*x**2 + 3*x"
            ]
          },
          "metadata": {},
          "execution_count": 5
        }
      ]
    },
    {
      "cell_type": "code",
      "source": [
        "sy.integrate(f_2)"
      ],
      "metadata": {
        "colab": {
          "base_uri": "https://localhost:8080/",
          "height": 54
        },
        "id": "dNSxEpKxYI7s",
        "outputId": "57d3355a-909e-40a2-e234-4159f1caec3f"
      },
      "execution_count": 6,
      "outputs": [
        {
          "output_type": "execute_result",
          "data": {
            "text/latex": "$\\displaystyle 2 x^{4} - \\frac{x^{3}}{3} + \\frac{5 x^{2}}{2} - x$",
            "text/plain": [
              "2*x**4 - x**3/3 + 5*x**2/2 - x"
            ]
          },
          "metadata": {},
          "execution_count": 6
        }
      ]
    },
    {
      "cell_type": "markdown",
      "source": [
        "Numeric"
      ],
      "metadata": {
        "id": "737S2JEwYcmO"
      }
    },
    {
      "cell_type": "code",
      "source": [
        "def f_1(x):\n",
        "  return 3*x**2 - 6*x + 3\n",
        "  \n",
        "A = integrate.quad(f_1,3,5)\n",
        "print(A)"
      ],
      "metadata": {
        "colab": {
          "base_uri": "https://localhost:8080/"
        },
        "id": "8FT57IvtYPPu",
        "outputId": "9f24b992-11ea-4959-99ad-96f687fad789"
      },
      "execution_count": 7,
      "outputs": [
        {
          "output_type": "stream",
          "name": "stdout",
          "text": [
            "(56.0, 6.217248937900877e-13)\n"
          ]
        }
      ]
    },
    {
      "cell_type": "code",
      "source": [
        "def f_1(x):\n",
        "  return 3*x**2 - 6*x + 3\n",
        "  \n",
        "A = integrate.quad(f_1,3,7)\n",
        "print(A)"
      ],
      "metadata": {
        "colab": {
          "base_uri": "https://localhost:8080/"
        },
        "id": "OpCH_jqgY634",
        "outputId": "4eeea0a6-b591-46c0-cace-4eba924c331d"
      },
      "execution_count": 8,
      "outputs": [
        {
          "output_type": "stream",
          "name": "stdout",
          "text": [
            "(208.0, 2.3092638912203256e-12)\n"
          ]
        }
      ]
    },
    {
      "cell_type": "code",
      "source": [
        "def f_2(x):\n",
        "  return 8*x**3 - x**2 + 5*x - 1\n",
        "\n",
        "  \n",
        "A = integrate.quad(f_2,3,5)\n",
        "print(A)"
      ],
      "metadata": {
        "colab": {
          "base_uri": "https://localhost:8080/"
        },
        "id": "dfD_ECl_Y_pN",
        "outputId": "e9eaca7e-a114-43c1-95f0-b01cb4c20b05"
      },
      "execution_count": 10,
      "outputs": [
        {
          "output_type": "stream",
          "name": "stdout",
          "text": [
            "(1093.3333333333333, 1.2138438402568378e-11)\n"
          ]
        }
      ]
    },
    {
      "cell_type": "code",
      "source": [
        "def f_2(x):\n",
        "  return 8*x**3 - x**2 + 5*x - 1\n",
        "\n",
        "  \n",
        "A = integrate.quad(f_2,3,7)\n",
        "print(A)"
      ],
      "metadata": {
        "colab": {
          "base_uri": "https://localhost:8080/"
        },
        "id": "ERY-XXt4ZOCL",
        "outputId": "cd382945-5f8d-4f0d-dbe3-fce4c291ed80"
      },
      "execution_count": 11,
      "outputs": [
        {
          "output_type": "stream",
          "name": "stdout",
          "text": [
            "(4630.666666666667, 5.1410727526975584e-11)\n"
          ]
        }
      ]
    }
  ]
}